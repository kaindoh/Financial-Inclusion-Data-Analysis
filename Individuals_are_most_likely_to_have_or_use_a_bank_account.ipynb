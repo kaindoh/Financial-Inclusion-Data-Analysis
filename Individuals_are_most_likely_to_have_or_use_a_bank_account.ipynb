{
  "nbformat": 4,
  "nbformat_minor": 0,
  "metadata": {
    "colab": {
      "name": "Individuals are most likely to have or use a bank account",
      "version": "0.3.2",
      "provenance": [],
      "collapsed_sections": [],
      "toc_visible": true,
      "include_colab_link": true
    },
    "kernelspec": {
      "display_name": "Python 3",
      "name": "python3"
    }
  },
  "cells": [
    {
      "cell_type": "markdown",
      "metadata": {
        "id": "view-in-github",
        "colab_type": "text"
      },
      "source": [
        "<a href=\"https://colab.research.google.com/github/kaindoh/Financial-Inclusion-Data-Analysis/blob/master/Individuals_are_most_likely_to_have_or_use_a_bank_account.ipynb\" target=\"_parent\"><img src=\"https://colab.research.google.com/assets/colab-badge.svg\" alt=\"Open In Colab\"/></a>"
      ]
    },
    {
      "cell_type": "markdown",
      "metadata": {
        "id": "VbPUUtk1gfcY",
        "colab_type": "text"
      },
      "source": [
        "#**Importing libraries**"
      ]
    },
    {
      "cell_type": "code",
      "metadata": {
        "id": "NdlOVCs9fvY5",
        "colab_type": "code",
        "colab": {}
      },
      "source": [
        "#importing libaries\n",
        "import matplotlib.pyplot as plt\n",
        "%matplotlib inline\n",
        "import numpy as np\n",
        "import pandas as pd\n",
        "import seaborn as sns\n",
        "from scipy.stats import ttest_1samp\n",
        "from scipy.stats import ttest_ind\n",
        "import pandas as pd\n",
        "import numpy as np\n",
        "import matplotlib.pyplot as plt\n",
        "%matplotlib inline\n",
        "from sklearn.model_selection import train_test_split\n",
        "from sklearn.preprocessing import StandardScaler\n",
        "from sklearn.decomposition import PCA\n",
        "from sklearn.ensemble import RandomForestClassifier\n",
        "from sklearn.metrics import confusion_matrix\n",
        "from sklearn.metrics import accuracy_score\n",
        "from sklearn.linear_model import LinearRegression\n",
        "from sklearn import model_selection\n",
        "from sklearn.metrics import r2_score\n",
        "from sklearn.model_selection import train_test_split\n",
        "import statsmodels.api as sm\n",
        "from sklearn.discriminant_analysis import LinearDiscriminantAnalysis as LDA\n",
        "from scipy.stats import norm ,ttest_ind,ttest_1samp\n",
        "from sklearn.preprocessing import LabelEncoder\n",
        "from sklearn.linear_model import LinearRegression\n",
        "from sklearn import model_selection\n",
        "from sklearn.metrics import r2_score\n",
        "from sklearn.model_selection import train_test_split\n",
        "import statsmodels.api as sm\n",
        "from sklearn.linear_model import LogisticRegression\n"
      ],
      "execution_count": 0,
      "outputs": []
    },
    {
      "cell_type": "markdown",
      "metadata": {
        "id": "Q7fWxnfBg0lh",
        "colab_type": "text"
      },
      "source": [
        "# **Loading Files**"
      ]
    },
    {
      "cell_type": "code",
      "metadata": {
        "id": "UC1KDqOXfvb5",
        "colab_type": "code",
        "colab": {}
      },
      "source": [
        "#loading files using pandas\n",
        "df=pd.read_csv(\"Financial Dataset - 1.csv\")\n",
        "descr=pd.read_csv(\"VariableDefinitions.csv\")"
      ],
      "execution_count": 0,
      "outputs": []
    },
    {
      "cell_type": "code",
      "metadata": {
        "id": "m_OmecWgfvep",
        "colab_type": "code",
        "outputId": "0306f096-b234-4ba8-f1ae-b276d3a1a057",
        "colab": {
          "base_uri": "https://localhost:8080/",
          "height": 408
        }
      },
      "source": [
        "#Displaying the description\n",
        "descr"
      ],
      "execution_count": 5,
      "outputs": [
        {
          "output_type": "execute_result",
          "data": {
            "text/html": [
              "<div>\n",
              "<style scoped>\n",
              "    .dataframe tbody tr th:only-of-type {\n",
              "        vertical-align: middle;\n",
              "    }\n",
              "\n",
              "    .dataframe tbody tr th {\n",
              "        vertical-align: top;\n",
              "    }\n",
              "\n",
              "    .dataframe thead th {\n",
              "        text-align: right;\n",
              "    }\n",
              "</style>\n",
              "<table border=\"1\" class=\"dataframe\">\n",
              "  <thead>\n",
              "    <tr style=\"text-align: right;\">\n",
              "      <th></th>\n",
              "      <th>Variable Definitions</th>\n",
              "      <th>Unnamed: 1</th>\n",
              "    </tr>\n",
              "  </thead>\n",
              "  <tbody>\n",
              "    <tr>\n",
              "      <th>0</th>\n",
              "      <td>country</td>\n",
              "      <td>Country interviewee is in.</td>\n",
              "    </tr>\n",
              "    <tr>\n",
              "      <th>1</th>\n",
              "      <td>year</td>\n",
              "      <td>Year survey was done in.</td>\n",
              "    </tr>\n",
              "    <tr>\n",
              "      <th>2</th>\n",
              "      <td>uniqueid</td>\n",
              "      <td>Unique identifier for each interviewee</td>\n",
              "    </tr>\n",
              "    <tr>\n",
              "      <th>3</th>\n",
              "      <td>location_type</td>\n",
              "      <td>Type of location: Rural, Urban</td>\n",
              "    </tr>\n",
              "    <tr>\n",
              "      <th>4</th>\n",
              "      <td>cellphone_access</td>\n",
              "      <td>If interviewee has access to a cellphone: Yes, No</td>\n",
              "    </tr>\n",
              "    <tr>\n",
              "      <th>5</th>\n",
              "      <td>household_size</td>\n",
              "      <td>Number of people living in one house</td>\n",
              "    </tr>\n",
              "    <tr>\n",
              "      <th>6</th>\n",
              "      <td>age_of_respondent</td>\n",
              "      <td>The age of the interviewee</td>\n",
              "    </tr>\n",
              "    <tr>\n",
              "      <th>7</th>\n",
              "      <td>gender_of_respondent</td>\n",
              "      <td>Gender of interviewee: Male, Female</td>\n",
              "    </tr>\n",
              "    <tr>\n",
              "      <th>8</th>\n",
              "      <td>relationship_with_head</td>\n",
              "      <td>The interviewee’s relationship with the head o...</td>\n",
              "    </tr>\n",
              "    <tr>\n",
              "      <th>9</th>\n",
              "      <td>marital_status</td>\n",
              "      <td>The martial status of the interviewee: Married...</td>\n",
              "    </tr>\n",
              "    <tr>\n",
              "      <th>10</th>\n",
              "      <td>education_level</td>\n",
              "      <td>Highest level of education: No formal educatio...</td>\n",
              "    </tr>\n",
              "    <tr>\n",
              "      <th>11</th>\n",
              "      <td>job_type</td>\n",
              "      <td>Type of job interviewee has: Farming and Fishi...</td>\n",
              "    </tr>\n",
              "  </tbody>\n",
              "</table>\n",
              "</div>"
            ],
            "text/plain": [
              "      Variable Definitions                                         Unnamed: 1\n",
              "0                  country                         Country interviewee is in.\n",
              "1                     year                           Year survey was done in.\n",
              "2                 uniqueid             Unique identifier for each interviewee\n",
              "3            location_type                     Type of location: Rural, Urban\n",
              "4         cellphone_access  If interviewee has access to a cellphone: Yes, No\n",
              "5           household_size               Number of people living in one house\n",
              "6        age_of_respondent                         The age of the interviewee\n",
              "7     gender_of_respondent                Gender of interviewee: Male, Female\n",
              "8   relationship_with_head  The interviewee’s relationship with the head o...\n",
              "9           marital_status  The martial status of the interviewee: Married...\n",
              "10         education_level  Highest level of education: No formal educatio...\n",
              "11                job_type  Type of job interviewee has: Farming and Fishi..."
            ]
          },
          "metadata": {
            "tags": []
          },
          "execution_count": 5
        }
      ]
    },
    {
      "cell_type": "markdown",
      "metadata": {
        "id": "Vejn6gaajlfD",
        "colab_type": "text"
      },
      "source": [
        "#**Understanding the Dataset**"
      ]
    },
    {
      "cell_type": "code",
      "metadata": {
        "id": "cLKz0_KOfvhV",
        "colab_type": "code",
        "outputId": "f98f1bb4-9947-4c96-c4fa-6e9a37f2e21c",
        "colab": {
          "base_uri": "https://localhost:8080/",
          "height": 391
        }
      },
      "source": [
        "#previwing the the dataset randomly\n",
        "df.sample(5)"
      ],
      "execution_count": 6,
      "outputs": [
        {
          "output_type": "execute_result",
          "data": {
            "text/html": [
              "<div>\n",
              "<style scoped>\n",
              "    .dataframe tbody tr th:only-of-type {\n",
              "        vertical-align: middle;\n",
              "    }\n",
              "\n",
              "    .dataframe tbody tr th {\n",
              "        vertical-align: top;\n",
              "    }\n",
              "\n",
              "    .dataframe thead th {\n",
              "        text-align: right;\n",
              "    }\n",
              "</style>\n",
              "<table border=\"1\" class=\"dataframe\">\n",
              "  <thead>\n",
              "    <tr style=\"text-align: right;\">\n",
              "      <th></th>\n",
              "      <th>country</th>\n",
              "      <th>year</th>\n",
              "      <th>uniqueid</th>\n",
              "      <th>Has a Bank account</th>\n",
              "      <th>Type of Location</th>\n",
              "      <th>Cell Phone Access</th>\n",
              "      <th>household_size</th>\n",
              "      <th>Respondent Age</th>\n",
              "      <th>gender_of_respondent</th>\n",
              "      <th>The relathip with head</th>\n",
              "      <th>marital_status</th>\n",
              "      <th>Level of Educuation</th>\n",
              "      <th>Type of Job</th>\n",
              "    </tr>\n",
              "  </thead>\n",
              "  <tbody>\n",
              "    <tr>\n",
              "      <th>114</th>\n",
              "      <td>Kenya</td>\n",
              "      <td>2018</td>\n",
              "      <td>uniqueid_115</td>\n",
              "      <td>No</td>\n",
              "      <td>Rural</td>\n",
              "      <td>No</td>\n",
              "      <td>8.0</td>\n",
              "      <td>72.0</td>\n",
              "      <td>Female</td>\n",
              "      <td>Parent</td>\n",
              "      <td>Widowed</td>\n",
              "      <td>No formal education</td>\n",
              "      <td>Remittance Dependent</td>\n",
              "    </tr>\n",
              "    <tr>\n",
              "      <th>19642</th>\n",
              "      <td>Tanzania</td>\n",
              "      <td>2017</td>\n",
              "      <td>uniqueid_4840</td>\n",
              "      <td>No</td>\n",
              "      <td>Rural</td>\n",
              "      <td>Yes</td>\n",
              "      <td>2.0</td>\n",
              "      <td>21.0</td>\n",
              "      <td>Female</td>\n",
              "      <td>Spouse</td>\n",
              "      <td>Single/Never Married</td>\n",
              "      <td>Secondary education</td>\n",
              "      <td>No Income</td>\n",
              "    </tr>\n",
              "    <tr>\n",
              "      <th>14578</th>\n",
              "      <td>Rwanda</td>\n",
              "      <td>2016</td>\n",
              "      <td>uniqueid_8511</td>\n",
              "      <td>No</td>\n",
              "      <td>Rural</td>\n",
              "      <td>Yes</td>\n",
              "      <td>3.0</td>\n",
              "      <td>53.0</td>\n",
              "      <td>Male</td>\n",
              "      <td>Head of Household</td>\n",
              "      <td>Married/Living together</td>\n",
              "      <td>Primary education</td>\n",
              "      <td>Informally employed</td>\n",
              "    </tr>\n",
              "    <tr>\n",
              "      <th>7240</th>\n",
              "      <td>Rwanda</td>\n",
              "      <td>2016</td>\n",
              "      <td>uniqueid_1173</td>\n",
              "      <td>No</td>\n",
              "      <td>Rural</td>\n",
              "      <td>No</td>\n",
              "      <td>1.0</td>\n",
              "      <td>77.0</td>\n",
              "      <td>Female</td>\n",
              "      <td>Head of Household</td>\n",
              "      <td>Widowed</td>\n",
              "      <td>Primary education</td>\n",
              "      <td>Farming and Fishing</td>\n",
              "    </tr>\n",
              "    <tr>\n",
              "      <th>4766</th>\n",
              "      <td>Kenya</td>\n",
              "      <td>2018</td>\n",
              "      <td>uniqueid_4767</td>\n",
              "      <td>Yes</td>\n",
              "      <td>Rural</td>\n",
              "      <td>Yes</td>\n",
              "      <td>8.0</td>\n",
              "      <td>40.0</td>\n",
              "      <td>Male</td>\n",
              "      <td>Head of Household</td>\n",
              "      <td>Married/Living together</td>\n",
              "      <td>Secondary education</td>\n",
              "      <td>Farming and Fishing</td>\n",
              "    </tr>\n",
              "  </tbody>\n",
              "</table>\n",
              "</div>"
            ],
            "text/plain": [
              "        country  year  ...  Level of Educuation           Type of Job\n",
              "114       Kenya  2018  ...  No formal education  Remittance Dependent\n",
              "19642  Tanzania  2017  ...  Secondary education             No Income\n",
              "14578    Rwanda  2016  ...    Primary education   Informally employed\n",
              "7240     Rwanda  2016  ...    Primary education   Farming and Fishing\n",
              "4766      Kenya  2018  ...  Secondary education   Farming and Fishing\n",
              "\n",
              "[5 rows x 13 columns]"
            ]
          },
          "metadata": {
            "tags": []
          },
          "execution_count": 6
        }
      ]
    },
    {
      "cell_type": "code",
      "metadata": {
        "id": "1OUljUrYfvkE",
        "colab_type": "code",
        "outputId": "69460a79-e235-478c-fa62-8ba7e11575cb",
        "colab": {
          "base_uri": "https://localhost:8080/",
          "height": 363
        }
      },
      "source": [
        "#The Decsription of the dataset in terms of rows and columns\n",
        "df.info()\n",
        "df.shape\n"
      ],
      "execution_count": 7,
      "outputs": [
        {
          "output_type": "stream",
          "text": [
            "<class 'pandas.core.frame.DataFrame'>\n",
            "RangeIndex: 23524 entries, 0 to 23523\n",
            "Data columns (total 13 columns):\n",
            "country                   23510 non-null object\n",
            "year                      23524 non-null int64\n",
            "uniqueid                  23524 non-null object\n",
            "Has a Bank account        23488 non-null object\n",
            "Type of Location          23509 non-null object\n",
            "Cell Phone Access         23513 non-null object\n",
            "household_size            23496 non-null float64\n",
            "Respondent Age            23490 non-null float64\n",
            "gender_of_respondent      23490 non-null object\n",
            "The relathip with head    23520 non-null object\n",
            "marital_status            23492 non-null object\n",
            "Level of Educuation       23495 non-null object\n",
            "Type of Job               23494 non-null object\n",
            "dtypes: float64(2), int64(1), object(10)\n",
            "memory usage: 2.3+ MB\n"
          ],
          "name": "stdout"
        },
        {
          "output_type": "execute_result",
          "data": {
            "text/plain": [
              "(23524, 13)"
            ]
          },
          "metadata": {
            "tags": []
          },
          "execution_count": 7
        }
      ]
    },
    {
      "cell_type": "code",
      "metadata": {
        "id": "x5hR77TrfvnJ",
        "colab_type": "code",
        "outputId": "9e57e3d7-109d-49ee-addb-d0996636c523",
        "colab": {
          "base_uri": "https://localhost:8080/",
          "height": 288
        }
      },
      "source": [
        "#Statistics review\n",
        "df.describe()\n"
      ],
      "execution_count": 8,
      "outputs": [
        {
          "output_type": "execute_result",
          "data": {
            "text/html": [
              "<div>\n",
              "<style scoped>\n",
              "    .dataframe tbody tr th:only-of-type {\n",
              "        vertical-align: middle;\n",
              "    }\n",
              "\n",
              "    .dataframe tbody tr th {\n",
              "        vertical-align: top;\n",
              "    }\n",
              "\n",
              "    .dataframe thead th {\n",
              "        text-align: right;\n",
              "    }\n",
              "</style>\n",
              "<table border=\"1\" class=\"dataframe\">\n",
              "  <thead>\n",
              "    <tr style=\"text-align: right;\">\n",
              "      <th></th>\n",
              "      <th>year</th>\n",
              "      <th>household_size</th>\n",
              "      <th>Respondent Age</th>\n",
              "    </tr>\n",
              "  </thead>\n",
              "  <tbody>\n",
              "    <tr>\n",
              "      <th>count</th>\n",
              "      <td>23524.000000</td>\n",
              "      <td>23496.000000</td>\n",
              "      <td>23490.000000</td>\n",
              "    </tr>\n",
              "    <tr>\n",
              "      <th>mean</th>\n",
              "      <td>2016.979000</td>\n",
              "      <td>3.681818</td>\n",
              "      <td>38.804300</td>\n",
              "    </tr>\n",
              "    <tr>\n",
              "      <th>std</th>\n",
              "      <td>0.899669</td>\n",
              "      <td>2.279933</td>\n",
              "      <td>16.519996</td>\n",
              "    </tr>\n",
              "    <tr>\n",
              "      <th>min</th>\n",
              "      <td>2016.000000</td>\n",
              "      <td>0.000000</td>\n",
              "      <td>16.000000</td>\n",
              "    </tr>\n",
              "    <tr>\n",
              "      <th>25%</th>\n",
              "      <td>2016.000000</td>\n",
              "      <td>2.000000</td>\n",
              "      <td>26.000000</td>\n",
              "    </tr>\n",
              "    <tr>\n",
              "      <th>50%</th>\n",
              "      <td>2017.000000</td>\n",
              "      <td>3.000000</td>\n",
              "      <td>35.000000</td>\n",
              "    </tr>\n",
              "    <tr>\n",
              "      <th>75%</th>\n",
              "      <td>2018.000000</td>\n",
              "      <td>5.000000</td>\n",
              "      <td>49.000000</td>\n",
              "    </tr>\n",
              "    <tr>\n",
              "      <th>max</th>\n",
              "      <td>2056.000000</td>\n",
              "      <td>21.000000</td>\n",
              "      <td>100.000000</td>\n",
              "    </tr>\n",
              "  </tbody>\n",
              "</table>\n",
              "</div>"
            ],
            "text/plain": [
              "               year  household_size  Respondent Age\n",
              "count  23524.000000    23496.000000    23490.000000\n",
              "mean    2016.979000        3.681818       38.804300\n",
              "std        0.899669        2.279933       16.519996\n",
              "min     2016.000000        0.000000       16.000000\n",
              "25%     2016.000000        2.000000       26.000000\n",
              "50%     2017.000000        3.000000       35.000000\n",
              "75%     2018.000000        5.000000       49.000000\n",
              "max     2056.000000       21.000000      100.000000"
            ]
          },
          "metadata": {
            "tags": []
          },
          "execution_count": 8
        }
      ]
    },
    {
      "cell_type": "markdown",
      "metadata": {
        "id": "bYlYqiSXmnMA",
        "colab_type": "text"
      },
      "source": [
        "# **Creating A Hypothesis**"
      ]
    },
    {
      "cell_type": "markdown",
      "metadata": {
        "id": "DdGrqzHxmvUB",
        "colab_type": "text"
      },
      "source": [
        ">$H_0: An Individual Has  A  Bank Account$\n",
        "\n",
        ">$H_1:An Individual Has No Bank Account$"
      ]
    },
    {
      "cell_type": "markdown",
      "metadata": {
        "id": "5Ky6dFAGkVYs",
        "colab_type": "text"
      },
      "source": [
        "# **Cleaning dataset**"
      ]
    },
    {
      "cell_type": "code",
      "metadata": {
        "id": "ArF2TzAifvp0",
        "colab_type": "code",
        "outputId": "b5fc5044-20a5-4068-f784-1398e5f2b96d",
        "colab": {
          "base_uri": "https://localhost:8080/",
          "height": 108
        }
      },
      "source": [
        "#knowing the column names\n",
        "df.columns"
      ],
      "execution_count": 9,
      "outputs": [
        {
          "output_type": "execute_result",
          "data": {
            "text/plain": [
              "Index(['country', 'year', 'uniqueid', 'Has a Bank account', 'Type of Location',\n",
              "       'Cell Phone Access', 'household_size', 'Respondent Age',\n",
              "       'gender_of_respondent', 'The relathip with head', 'marital_status',\n",
              "       'Level of Educuation', 'Type of Job'],\n",
              "      dtype='object')"
            ]
          },
          "metadata": {
            "tags": []
          },
          "execution_count": 9
        }
      ]
    },
    {
      "cell_type": "code",
      "metadata": {
        "id": "bsANzxK0fvtJ",
        "colab_type": "code",
        "colab": {}
      },
      "source": [
        "#Getting the column names uniform\n",
        "df.columns=df.columns.str.lower().str.replace(' ','_')"
      ],
      "execution_count": 0,
      "outputs": []
    },
    {
      "cell_type": "code",
      "metadata": {
        "id": "Fnxy5MS3lexQ",
        "colab_type": "code",
        "outputId": "a0c0cb58-5ba5-4bc6-c224-712a2fb26405",
        "colab": {
          "base_uri": "https://localhost:8080/",
          "height": 108
        }
      },
      "source": [
        "#display of the uniform columns\n",
        "df.columns"
      ],
      "execution_count": 11,
      "outputs": [
        {
          "output_type": "execute_result",
          "data": {
            "text/plain": [
              "Index(['country', 'year', 'uniqueid', 'has_a_bank_account', 'type_of_location',\n",
              "       'cell_phone_access', 'household_size', 'respondent_age',\n",
              "       'gender_of_respondent', 'the_relathip_with_head', 'marital_status',\n",
              "       'level_of_educuation', 'type_of_job'],\n",
              "      dtype='object')"
            ]
          },
          "metadata": {
            "tags": []
          },
          "execution_count": 11
        }
      ]
    },
    {
      "cell_type": "code",
      "metadata": {
        "id": "vDAG1Mn1fvva",
        "colab_type": "code",
        "outputId": "c0074aef-05ce-4add-a59d-cb5f853a6016",
        "colab": {
          "base_uri": "https://localhost:8080/",
          "height": 272
        }
      },
      "source": [
        "#checking for missing values\n",
        "df.isnull().sum()"
      ],
      "execution_count": 12,
      "outputs": [
        {
          "output_type": "execute_result",
          "data": {
            "text/plain": [
              "country                   14\n",
              "year                       0\n",
              "uniqueid                   0\n",
              "has_a_bank_account        36\n",
              "type_of_location          15\n",
              "cell_phone_access         11\n",
              "household_size            28\n",
              "respondent_age            34\n",
              "gender_of_respondent      34\n",
              "the_relathip_with_head     4\n",
              "marital_status            32\n",
              "level_of_educuation       29\n",
              "type_of_job               30\n",
              "dtype: int64"
            ]
          },
          "metadata": {
            "tags": []
          },
          "execution_count": 12
        }
      ]
    },
    {
      "cell_type": "code",
      "metadata": {
        "id": "yq8nPGGBfvyS",
        "colab_type": "code",
        "outputId": "f420ffe5-a811-49db-9a8d-ad73fcea0ead",
        "colab": {
          "base_uri": "https://localhost:8080/",
          "height": 272
        }
      },
      "source": [
        "#checking the data types for various columns\n",
        "df.dtypes\n"
      ],
      "execution_count": 13,
      "outputs": [
        {
          "output_type": "execute_result",
          "data": {
            "text/plain": [
              "country                    object\n",
              "year                        int64\n",
              "uniqueid                   object\n",
              "has_a_bank_account         object\n",
              "type_of_location           object\n",
              "cell_phone_access          object\n",
              "household_size            float64\n",
              "respondent_age            float64\n",
              "gender_of_respondent       object\n",
              "the_relathip_with_head     object\n",
              "marital_status             object\n",
              "level_of_educuation        object\n",
              "type_of_job                object\n",
              "dtype: object"
            ]
          },
          "metadata": {
            "tags": []
          },
          "execution_count": 13
        }
      ]
    },
    {
      "cell_type": "code",
      "metadata": {
        "id": "jQahNjuJpOz7",
        "colab_type": "code",
        "colab": {}
      },
      "source": [
        "#Dropping null values since tey are not as many\n",
        "df.dropna(inplace=True)"
      ],
      "execution_count": 0,
      "outputs": []
    },
    {
      "cell_type": "code",
      "metadata": {
        "id": "MsvI-F1Lfv4X",
        "colab_type": "code",
        "outputId": "9c2dd9fb-da79-454a-c7c4-4642c21de889",
        "colab": {
          "base_uri": "https://localhost:8080/",
          "height": 272
        }
      },
      "source": [
        "#confirming whether the null values are dropped\n",
        "df.isnull().sum()"
      ],
      "execution_count": 15,
      "outputs": [
        {
          "output_type": "execute_result",
          "data": {
            "text/plain": [
              "country                   0\n",
              "year                      0\n",
              "uniqueid                  0\n",
              "has_a_bank_account        0\n",
              "type_of_location          0\n",
              "cell_phone_access         0\n",
              "household_size            0\n",
              "respondent_age            0\n",
              "gender_of_respondent      0\n",
              "the_relathip_with_head    0\n",
              "marital_status            0\n",
              "level_of_educuation       0\n",
              "type_of_job               0\n",
              "dtype: int64"
            ]
          },
          "metadata": {
            "tags": []
          },
          "execution_count": 15
        }
      ]
    },
    {
      "cell_type": "code",
      "metadata": {
        "id": "mQ8obK-Dfv7E",
        "colab_type": "code",
        "outputId": "be8e7018-dd67-4f66-9c04-37906d15034c",
        "colab": {
          "base_uri": "https://localhost:8080/",
          "height": 68
        }
      },
      "source": [
        "#checking for duplcates\n",
        "df[df.duplicated()]"
      ],
      "execution_count": 16,
      "outputs": [
        {
          "output_type": "execute_result",
          "data": {
            "text/html": [
              "<div>\n",
              "<style scoped>\n",
              "    .dataframe tbody tr th:only-of-type {\n",
              "        vertical-align: middle;\n",
              "    }\n",
              "\n",
              "    .dataframe tbody tr th {\n",
              "        vertical-align: top;\n",
              "    }\n",
              "\n",
              "    .dataframe thead th {\n",
              "        text-align: right;\n",
              "    }\n",
              "</style>\n",
              "<table border=\"1\" class=\"dataframe\">\n",
              "  <thead>\n",
              "    <tr style=\"text-align: right;\">\n",
              "      <th></th>\n",
              "      <th>country</th>\n",
              "      <th>year</th>\n",
              "      <th>uniqueid</th>\n",
              "      <th>has_a_bank_account</th>\n",
              "      <th>type_of_location</th>\n",
              "      <th>cell_phone_access</th>\n",
              "      <th>household_size</th>\n",
              "      <th>respondent_age</th>\n",
              "      <th>gender_of_respondent</th>\n",
              "      <th>the_relathip_with_head</th>\n",
              "      <th>marital_status</th>\n",
              "      <th>level_of_educuation</th>\n",
              "      <th>type_of_job</th>\n",
              "    </tr>\n",
              "  </thead>\n",
              "  <tbody>\n",
              "  </tbody>\n",
              "</table>\n",
              "</div>"
            ],
            "text/plain": [
              "Empty DataFrame\n",
              "Columns: [country, year, uniqueid, has_a_bank_account, type_of_location, cell_phone_access, household_size, respondent_age, gender_of_respondent, the_relathip_with_head, marital_status, level_of_educuation, type_of_job]\n",
              "Index: []"
            ]
          },
          "metadata": {
            "tags": []
          },
          "execution_count": 16
        }
      ]
    },
    {
      "cell_type": "code",
      "metadata": {
        "id": "VrgpRowsfv-G",
        "colab_type": "code",
        "outputId": "1f6ac1ae-b084-4c55-d775-cf2570462846",
        "colab": {
          "base_uri": "https://localhost:8080/",
          "height": 287
        }
      },
      "source": [
        "#checking for outliers\n",
        "df['year'].plot(kind='box')"
      ],
      "execution_count": 17,
      "outputs": [
        {
          "output_type": "execute_result",
          "data": {
            "text/plain": [
              "<matplotlib.axes._subplots.AxesSubplot at 0x7f2dff29a6d8>"
            ]
          },
          "metadata": {
            "tags": []
          },
          "execution_count": 17
        },
        {
          "output_type": "display_data",
          "data": {
            "image/png": "[encoded data removed]",
            "text/plain": [
              "<Figure size 432x288 with 1 Axes>"
            ]
          },
          "metadata": {
            "tags": []
          }
        }
      ]
    },
    {
      "cell_type": "code",
      "metadata": {
        "id": "wkTsvEaBfwAX",
        "colab_type": "code",
        "outputId": "c28577f5-ea45-4ce2-cf3c-29f97560b8c7",
        "colab": {
          "base_uri": "https://localhost:8080/",
          "height": 35
        }
      },
      "source": [
        "#Getting unique years\n",
        "df.year.unique()"
      ],
      "execution_count": 18,
      "outputs": [
        {
          "output_type": "execute_result",
          "data": {
            "text/plain": [
              "array([2018, 2029, 2056, 2016, 2039, 2017])"
            ]
          },
          "metadata": {
            "tags": []
          },
          "execution_count": 18
        }
      ]
    },
    {
      "cell_type": "code",
      "metadata": {
        "id": "g79RyHqDfwGk",
        "colab_type": "code",
        "colab": {}
      },
      "source": [
        "#Removing 2029 2056 and 2038\n",
        "year_outliers=df[df.year>2019].index\n",
        "df.drop(year_outliers,inplace=True)"
      ],
      "execution_count": 0,
      "outputs": []
    },
    {
      "cell_type": "code",
      "metadata": {
        "id": "bLd262LVfwJJ",
        "colab_type": "code",
        "outputId": "49d9df9d-be6c-47b8-b501-042ce8773ded",
        "colab": {
          "base_uri": "https://localhost:8080/",
          "height": 35
        }
      },
      "source": [
        "#Displaying the remaining years\n",
        "df.year.unique()"
      ],
      "execution_count": 20,
      "outputs": [
        {
          "output_type": "execute_result",
          "data": {
            "text/plain": [
              "array([2018, 2016, 2017])"
            ]
          },
          "metadata": {
            "tags": []
          },
          "execution_count": 20
        }
      ]
    },
    {
      "cell_type": "code",
      "metadata": {
        "id": "HqdvTqgHfwMO",
        "colab_type": "code",
        "outputId": "7c45c861-a58b-43d5-bdd5-6761171d274e",
        "colab": {
          "base_uri": "https://localhost:8080/",
          "height": 288
        }
      },
      "source": [
        "#checking for outliers in household_size\n",
        "df.household_size.plot(kind='box')"
      ],
      "execution_count": 21,
      "outputs": [
        {
          "output_type": "execute_result",
          "data": {
            "text/plain": [
              "<matplotlib.axes._subplots.AxesSubplot at 0x7f2dff225518>"
            ]
          },
          "metadata": {
            "tags": []
          },
          "execution_count": 21
        },
        {
          "output_type": "display_data",
          "data": {
            "image/png": "[encoded data removed]",
            "text/plain": [
              "<Figure size 432x288 with 1 Axes>"
            ]
          },
          "metadata": {
            "tags": []
          }
        }
      ]
    },
    {
      "cell_type": "code",
      "metadata": {
        "id": "9Jk45z5qfwPI",
        "colab_type": "code",
        "outputId": "9d3cadc5-80f6-4b3a-cd8a-c3247ed78199",
        "colab": {
          "base_uri": "https://localhost:8080/",
          "height": 54
        }
      },
      "source": [
        "#Getting unique values of household_size\n",
        "df.household_size.unique()"
      ],
      "execution_count": 22,
      "outputs": [
        {
          "output_type": "execute_result",
          "data": {
            "text/plain": [
              "array([ 3.,  5.,  8.,  7.,  1.,  6.,  4., 10.,  2., 11.,  9., 12., 16.,\n",
              "       15., 13., 14., 21.,  0., 18., 17., 20.])"
            ]
          },
          "metadata": {
            "tags": []
          },
          "execution_count": 22
        }
      ]
    },
    {
      "cell_type": "markdown",
      "metadata": {
        "id": "6UgB_YXyx2Tb",
        "colab_type": "text"
      },
      "source": [
        "I will not drop household_size outliers because a maximum of 21 people in one house is reasonable"
      ]
    },
    {
      "cell_type": "code",
      "metadata": {
        "id": "JCVK_G9OfwRe",
        "colab_type": "code",
        "outputId": "7a6059ea-abf9-4c03-8c0d-8e35a46a70db",
        "colab": {
          "base_uri": "https://localhost:8080/",
          "height": 288
        }
      },
      "source": [
        "#checking for outliers in respondent_age\n",
        "df.respondent_age.plot(kind='box')"
      ],
      "execution_count": 23,
      "outputs": [
        {
          "output_type": "execute_result",
          "data": {
            "text/plain": [
              "<matplotlib.axes._subplots.AxesSubplot at 0x7f2dfc9455c0>"
            ]
          },
          "metadata": {
            "tags": []
          },
          "execution_count": 23
        },
        {
          "output_type": "display_data",
          "data": {
            "image/png": "[encoded data removed]",
            "text/plain": [
              "<Figure size 432x288 with 1 Axes>"
            ]
          },
          "metadata": {
            "tags": []
          }
        }
      ]
    },
    {
      "cell_type": "code",
      "metadata": {
        "id": "_1idaCnVfwUf",
        "colab_type": "code",
        "outputId": "65498e83-ebaa-4d12-bfd5-ada4aef9403f",
        "colab": {
          "base_uri": "https://localhost:8080/",
          "height": 163
        }
      },
      "source": [
        "#Getting unique values of respondent_age\n",
        "df.respondent_age.unique()"
      ],
      "execution_count": 24,
      "outputs": [
        {
          "output_type": "execute_result",
          "data": {
            "text/plain": [
              "array([ 24.,  70.,  26.,  34.,  32.,  42.,  54.,  76.,  40.,  69.,  64.,\n",
              "        31.,  38.,  47.,  27.,  48.,  25.,  21.,  18.,  22.,  58.,  55.,\n",
              "        62.,  29.,  35.,  45.,  67.,  19.,  80.,  66.,  50.,  33.,  28.,\n",
              "        51.,  16.,  17.,  30.,  37.,  59.,  65.,  46.,  56.,  52.,  23.,\n",
              "        43.,  49.,  44.,  72.,  53.,  63.,  39.,  81.,  78.,  36.,  20.,\n",
              "        60.,  95.,  71.,  57.,  85.,  68.,  41.,  61.,  75.,  86.,  73.,\n",
              "        93.,  74.,  88.,  90.,  77.,  84.,  82.,  89.,  79.,  83.,  94.,\n",
              "        87.,  92.,  91.,  98.,  97.,  96.,  99., 100.])"
            ]
          },
          "metadata": {
            "tags": []
          },
          "execution_count": 24
        }
      ]
    },
    {
      "cell_type": "markdown",
      "metadata": {
        "colab_type": "text",
        "id": "_BduaORtzM5m"
      },
      "source": [
        "I will not drop respondent_age outliers because a maximum of 100 is also reasonable"
      ]
    },
    {
      "cell_type": "markdown",
      "metadata": {
        "id": "8M6PgG912SvP",
        "colab_type": "text"
      },
      "source": [
        "# **Statistical Overview**"
      ]
    },
    {
      "cell_type": "code",
      "metadata": {
        "id": "FI3iiiLAfwXE",
        "colab_type": "code",
        "outputId": "975ea334-3502-4150-d803-a10a6117c794",
        "colab": {
          "base_uri": "https://localhost:8080/",
          "height": 138
        }
      },
      "source": [
        "#identifying whether data is correlated\n",
        "df.corr()"
      ],
      "execution_count": 25,
      "outputs": [
        {
          "output_type": "execute_result",
          "data": {
            "text/html": [
              "<div>\n",
              "<style scoped>\n",
              "    .dataframe tbody tr th:only-of-type {\n",
              "        vertical-align: middle;\n",
              "    }\n",
              "\n",
              "    .dataframe tbody tr th {\n",
              "        vertical-align: top;\n",
              "    }\n",
              "\n",
              "    .dataframe thead th {\n",
              "        text-align: right;\n",
              "    }\n",
              "</style>\n",
              "<table border=\"1\" class=\"dataframe\">\n",
              "  <thead>\n",
              "    <tr style=\"text-align: right;\">\n",
              "      <th></th>\n",
              "      <th>year</th>\n",
              "      <th>household_size</th>\n",
              "      <th>respondent_age</th>\n",
              "    </tr>\n",
              "  </thead>\n",
              "  <tbody>\n",
              "    <tr>\n",
              "      <th>year</th>\n",
              "      <td>1.000000</td>\n",
              "      <td>-0.052484</td>\n",
              "      <td>-0.018554</td>\n",
              "    </tr>\n",
              "    <tr>\n",
              "      <th>household_size</th>\n",
              "      <td>-0.052484</td>\n",
              "      <td>1.000000</td>\n",
              "      <td>-0.119671</td>\n",
              "    </tr>\n",
              "    <tr>\n",
              "      <th>respondent_age</th>\n",
              "      <td>-0.018554</td>\n",
              "      <td>-0.119671</td>\n",
              "      <td>1.000000</td>\n",
              "    </tr>\n",
              "  </tbody>\n",
              "</table>\n",
              "</div>"
            ],
            "text/plain": [
              "                    year  household_size  respondent_age\n",
              "year            1.000000       -0.052484       -0.018554\n",
              "household_size -0.052484        1.000000       -0.119671\n",
              "respondent_age -0.018554       -0.119671        1.000000"
            ]
          },
          "metadata": {
            "tags": []
          },
          "execution_count": 25
        }
      ]
    },
    {
      "cell_type": "code",
      "metadata": {
        "id": "u9cVeEfhfwaR",
        "colab_type": "code",
        "outputId": "305989a5-b591-4600-d729-4dcf5908c04b",
        "colab": {
          "base_uri": "https://localhost:8080/",
          "height": 288
        }
      },
      "source": [
        "#creating a heatmap of the correlated values\n",
        "sns.heatmap(df.corr(),annot=True)"
      ],
      "execution_count": 26,
      "outputs": [
        {
          "output_type": "execute_result",
          "data": {
            "text/plain": [
              "<matplotlib.axes._subplots.AxesSubplot at 0x7f2dfc692048>"
            ]
          },
          "metadata": {
            "tags": []
          },
          "execution_count": 26
        },
        {
          "output_type": "display_data",
          "data": {
            "image/png": "[encoded data removed]",
            "text/plain": [
              "<Figure size 432x288 with 2 Axes>"
            ]
          },
          "metadata": {
            "tags": []
          }
        }
      ]
    },
    {
      "cell_type": "markdown",
      "metadata": {
        "id": "1AdREbJs45fY",
        "colab_type": "text"
      },
      "source": [
        "This shows that household size respondent_age and year are inversely and weakly correlated"
      ]
    },
    {
      "cell_type": "code",
      "metadata": {
        "id": "CYA22jRifwcr",
        "colab_type": "code",
        "outputId": "376a825d-7e98-46c2-b8a7-ee8833f0070a",
        "colab": {
          "base_uri": "https://localhost:8080/",
          "height": 90
        }
      },
      "source": [
        "#checking whether the data is skewed\n",
        "df.skew()"
      ],
      "execution_count": 27,
      "outputs": [
        {
          "output_type": "execute_result",
          "data": {
            "text/plain": [
              "year              0.042833\n",
              "household_size    0.974183\n",
              "respondent_age    0.840615\n",
              "dtype: float64"
            ]
          },
          "metadata": {
            "tags": []
          },
          "execution_count": 27
        }
      ]
    },
    {
      "cell_type": "markdown",
      "metadata": {
        "id": "Xm2FrA8T9PQ5",
        "colab_type": "text"
      },
      "source": [
        "\n",
        "household_size and respondent_age are skewed to the right\n"
      ]
    },
    {
      "cell_type": "code",
      "metadata": {
        "id": "ZoE1tV7S_jkU",
        "colab_type": "code",
        "outputId": "63ef7d01-f128-4328-af0f-1358daac9f18",
        "colab": {
          "base_uri": "https://localhost:8080/",
          "height": 90
        }
      },
      "source": [
        "#Finding the kurtosis\n",
        "df.kurt()"
      ],
      "execution_count": 28,
      "outputs": [
        {
          "output_type": "execute_result",
          "data": {
            "text/plain": [
              "year             -1.611829\n",
              "household_size    1.153836\n",
              "respondent_age    0.098268\n",
              "dtype: float64"
            ]
          },
          "metadata": {
            "tags": []
          },
          "execution_count": 28
        }
      ]
    },
    {
      "cell_type": "markdown",
      "metadata": {
        "id": "UYSEcKgn_5oo",
        "colab_type": "text"
      },
      "source": [
        "> year is platykurtic\n",
        "\n",
        "> household_size is leptokurtic\n",
        "\n",
        "> respondent_age is mesokurtic"
      ]
    },
    {
      "cell_type": "code",
      "metadata": {
        "id": "4fP15ZM37hxw",
        "colab_type": "code",
        "outputId": "be3d0946-4bc1-46a2-c03b-dc173c41ae98",
        "colab": {
          "base_uri": "https://localhost:8080/",
          "height": 90
        }
      },
      "source": [
        "#Finding the standard deviation\n",
        "df.std()"
      ],
      "execution_count": 29,
      "outputs": [
        {
          "output_type": "execute_result",
          "data": {
            "text/plain": [
              "year               0.849136\n",
              "household_size     2.281275\n",
              "respondent_age    16.519905\n",
              "dtype: float64"
            ]
          },
          "metadata": {
            "tags": []
          },
          "execution_count": 29
        }
      ]
    },
    {
      "cell_type": "markdown",
      "metadata": {
        "id": "HcHo6-vN_MiS",
        "colab_type": "text"
      },
      "source": [
        "respondent_age has the the greatest variance meaning the values of age are so far from the mean"
      ]
    },
    {
      "cell_type": "code",
      "metadata": {
        "id": "z4d02PGdfwik",
        "colab_type": "code",
        "outputId": "ade67113-8e3b-4d9d-b063-d57d1cb10b04",
        "colab": {
          "base_uri": "https://localhost:8080/",
          "height": 415
        }
      },
      "source": [
        "#Getting the statistical overview of the  data\n",
        "df.describe(include='all')"
      ],
      "execution_count": 31,
      "outputs": [
        {
          "output_type": "execute_result",
          "data": {
            "text/html": [
              "<div>\n",
              "<style scoped>\n",
              "    .dataframe tbody tr th:only-of-type {\n",
              "        vertical-align: middle;\n",
              "    }\n",
              "\n",
              "    .dataframe tbody tr th {\n",
              "        vertical-align: top;\n",
              "    }\n",
              "\n",
              "    .dataframe thead th {\n",
              "        text-align: right;\n",
              "    }\n",
              "</style>\n",
              "<table border=\"1\" class=\"dataframe\">\n",
              "  <thead>\n",
              "    <tr style=\"text-align: right;\">\n",
              "      <th></th>\n",
              "      <th>country</th>\n",
              "      <th>year</th>\n",
              "      <th>uniqueid</th>\n",
              "      <th>has_a_bank_account</th>\n",
              "      <th>type_of_location</th>\n",
              "      <th>cell_phone_access</th>\n",
              "      <th>household_size</th>\n",
              "      <th>respondent_age</th>\n",
              "      <th>gender_of_respondent</th>\n",
              "      <th>the_relathip_with_head</th>\n",
              "      <th>marital_status</th>\n",
              "      <th>level_of_educuation</th>\n",
              "      <th>type_of_job</th>\n",
              "    </tr>\n",
              "  </thead>\n",
              "  <tbody>\n",
              "    <tr>\n",
              "      <th>count</th>\n",
              "      <td>23340</td>\n",
              "      <td>23340.000000</td>\n",
              "      <td>23340</td>\n",
              "      <td>23340</td>\n",
              "      <td>23340</td>\n",
              "      <td>23340</td>\n",
              "      <td>23340.000000</td>\n",
              "      <td>23340.000000</td>\n",
              "      <td>23340</td>\n",
              "      <td>23340</td>\n",
              "      <td>23340</td>\n",
              "      <td>23340</td>\n",
              "      <td>23340</td>\n",
              "    </tr>\n",
              "    <tr>\n",
              "      <th>unique</th>\n",
              "      <td>4</td>\n",
              "      <td>NaN</td>\n",
              "      <td>8687</td>\n",
              "      <td>2</td>\n",
              "      <td>2</td>\n",
              "      <td>2</td>\n",
              "      <td>NaN</td>\n",
              "      <td>NaN</td>\n",
              "      <td>2</td>\n",
              "      <td>6</td>\n",
              "      <td>5</td>\n",
              "      <td>7</td>\n",
              "      <td>10</td>\n",
              "    </tr>\n",
              "    <tr>\n",
              "      <th>top</th>\n",
              "      <td>Rwanda</td>\n",
              "      <td>NaN</td>\n",
              "      <td>uniqueid_1797</td>\n",
              "      <td>No</td>\n",
              "      <td>Rural</td>\n",
              "      <td>Yes</td>\n",
              "      <td>NaN</td>\n",
              "      <td>NaN</td>\n",
              "      <td>Female</td>\n",
              "      <td>Head of Household</td>\n",
              "      <td>Married/Living together</td>\n",
              "      <td>Primary education</td>\n",
              "      <td>Self employed</td>\n",
              "    </tr>\n",
              "    <tr>\n",
              "      <th>freq</th>\n",
              "      <td>8683</td>\n",
              "      <td>NaN</td>\n",
              "      <td>4</td>\n",
              "      <td>20044</td>\n",
              "      <td>14263</td>\n",
              "      <td>17331</td>\n",
              "      <td>NaN</td>\n",
              "      <td>NaN</td>\n",
              "      <td>13766</td>\n",
              "      <td>12729</td>\n",
              "      <td>10698</td>\n",
              "      <td>12688</td>\n",
              "      <td>6361</td>\n",
              "    </tr>\n",
              "    <tr>\n",
              "      <th>mean</th>\n",
              "      <td>NaN</td>\n",
              "      <td>2016.977464</td>\n",
              "      <td>NaN</td>\n",
              "      <td>NaN</td>\n",
              "      <td>NaN</td>\n",
              "      <td>NaN</td>\n",
              "      <td>3.688560</td>\n",
              "      <td>38.807069</td>\n",
              "      <td>NaN</td>\n",
              "      <td>NaN</td>\n",
              "      <td>NaN</td>\n",
              "      <td>NaN</td>\n",
              "      <td>NaN</td>\n",
              "    </tr>\n",
              "    <tr>\n",
              "      <th>std</th>\n",
              "      <td>NaN</td>\n",
              "      <td>0.849136</td>\n",
              "      <td>NaN</td>\n",
              "      <td>NaN</td>\n",
              "      <td>NaN</td>\n",
              "      <td>NaN</td>\n",
              "      <td>2.281275</td>\n",
              "      <td>16.519905</td>\n",
              "      <td>NaN</td>\n",
              "      <td>NaN</td>\n",
              "      <td>NaN</td>\n",
              "      <td>NaN</td>\n",
              "      <td>NaN</td>\n",
              "    </tr>\n",
              "    <tr>\n",
              "      <th>min</th>\n",
              "      <td>NaN</td>\n",
              "      <td>2016.000000</td>\n",
              "      <td>NaN</td>\n",
              "      <td>NaN</td>\n",
              "      <td>NaN</td>\n",
              "      <td>NaN</td>\n",
              "      <td>0.000000</td>\n",
              "      <td>16.000000</td>\n",
              "      <td>NaN</td>\n",
              "      <td>NaN</td>\n",
              "      <td>NaN</td>\n",
              "      <td>NaN</td>\n",
              "      <td>NaN</td>\n",
              "    </tr>\n",
              "    <tr>\n",
              "      <th>25%</th>\n",
              "      <td>NaN</td>\n",
              "      <td>2016.000000</td>\n",
              "      <td>NaN</td>\n",
              "      <td>NaN</td>\n",
              "      <td>NaN</td>\n",
              "      <td>NaN</td>\n",
              "      <td>2.000000</td>\n",
              "      <td>26.000000</td>\n",
              "      <td>NaN</td>\n",
              "      <td>NaN</td>\n",
              "      <td>NaN</td>\n",
              "      <td>NaN</td>\n",
              "      <td>NaN</td>\n",
              "    </tr>\n",
              "    <tr>\n",
              "      <th>50%</th>\n",
              "      <td>NaN</td>\n",
              "      <td>2017.000000</td>\n",
              "      <td>NaN</td>\n",
              "      <td>NaN</td>\n",
              "      <td>NaN</td>\n",
              "      <td>NaN</td>\n",
              "      <td>3.000000</td>\n",
              "      <td>35.000000</td>\n",
              "      <td>NaN</td>\n",
              "      <td>NaN</td>\n",
              "      <td>NaN</td>\n",
              "      <td>NaN</td>\n",
              "      <td>NaN</td>\n",
              "    </tr>\n",
              "    <tr>\n",
              "      <th>75%</th>\n",
              "      <td>NaN</td>\n",
              "      <td>2018.000000</td>\n",
              "      <td>NaN</td>\n",
              "      <td>NaN</td>\n",
              "      <td>NaN</td>\n",
              "      <td>NaN</td>\n",
              "      <td>5.000000</td>\n",
              "      <td>49.000000</td>\n",
              "      <td>NaN</td>\n",
              "      <td>NaN</td>\n",
              "      <td>NaN</td>\n",
              "      <td>NaN</td>\n",
              "      <td>NaN</td>\n",
              "    </tr>\n",
              "    <tr>\n",
              "      <th>max</th>\n",
              "      <td>NaN</td>\n",
              "      <td>2018.000000</td>\n",
              "      <td>NaN</td>\n",
              "      <td>NaN</td>\n",
              "      <td>NaN</td>\n",
              "      <td>NaN</td>\n",
              "      <td>21.000000</td>\n",
              "      <td>100.000000</td>\n",
              "      <td>NaN</td>\n",
              "      <td>NaN</td>\n",
              "      <td>NaN</td>\n",
              "      <td>NaN</td>\n",
              "      <td>NaN</td>\n",
              "    </tr>\n",
              "  </tbody>\n",
              "</table>\n",
              "</div>"
            ],
            "text/plain": [
              "       country          year  ... level_of_educuation    type_of_job\n",
              "count    23340  23340.000000  ...               23340          23340\n",
              "unique       4           NaN  ...                   7             10\n",
              "top     Rwanda           NaN  ...   Primary education  Self employed\n",
              "freq      8683           NaN  ...               12688           6361\n",
              "mean       NaN   2016.977464  ...                 NaN            NaN\n",
              "std        NaN      0.849136  ...                 NaN            NaN\n",
              "min        NaN   2016.000000  ...                 NaN            NaN\n",
              "25%        NaN   2016.000000  ...                 NaN            NaN\n",
              "50%        NaN   2017.000000  ...                 NaN            NaN\n",
              "75%        NaN   2018.000000  ...                 NaN            NaN\n",
              "max        NaN   2018.000000  ...                 NaN            NaN\n",
              "\n",
              "[11 rows x 13 columns]"
            ]
          },
          "metadata": {
            "tags": []
          },
          "execution_count": 31
        }
      ]
    },
    {
      "cell_type": "markdown",
      "metadata": {
        "id": "0ve9snV4BI73",
        "colab_type": "text"
      },
      "source": [
        "# Visualization of The Data"
      ]
    },
    {
      "cell_type": "code",
      "metadata": {
        "id": "1upAGmbnfwlV",
        "colab_type": "code",
        "outputId": "63c49e7c-4eac-4b88-a700-8fe269d1ec8b",
        "colab": {
          "base_uri": "https://localhost:8080/",
          "height": 108
        }
      },
      "source": [
        "#Getting the correct names of the columns\n",
        "df.columns"
      ],
      "execution_count": 32,
      "outputs": [
        {
          "output_type": "execute_result",
          "data": {
            "text/plain": [
              "Index(['country', 'year', 'uniqueid', 'has_a_bank_account', 'type_of_location',\n",
              "       'cell_phone_access', 'household_size', 'respondent_age',\n",
              "       'gender_of_respondent', 'the_relathip_with_head', 'marital_status',\n",
              "       'level_of_educuation', 'type_of_job'],\n",
              "      dtype='object')"
            ]
          },
          "metadata": {
            "tags": []
          },
          "execution_count": 32
        }
      ]
    },
    {
      "cell_type": "code",
      "metadata": {
        "id": "cKq5rABoAdLQ",
        "colab_type": "code",
        "outputId": "8ba81f03-e07e-4f00-dd22-ebf5e81638eb",
        "colab": {
          "base_uri": "https://localhost:8080/",
          "height": 35
        }
      },
      "source": [
        "#Getting the unique elements in the type of location columns\n",
        "df.type_of_location.unique()"
      ],
      "execution_count": 34,
      "outputs": [
        {
          "output_type": "execute_result",
          "data": {
            "text/plain": [
              "array(['Rural', 'Urban'], dtype=object)"
            ]
          },
          "metadata": {
            "tags": []
          },
          "execution_count": 34
        }
      ]
    },
    {
      "cell_type": "code",
      "metadata": {
        "id": "1vQA4687AdHS",
        "colab_type": "code",
        "outputId": "b7c7d891-7dcf-47c1-862c-6476164bba8e",
        "colab": {
          "base_uri": "https://localhost:8080/",
          "height": 90
        }
      },
      "source": [
        "#Grouping the elemnts in the type of location inorder to get the frequency \n",
        "location=df.groupby('type_of_location')['type_of_location'].count()\n",
        "location"
      ],
      "execution_count": 36,
      "outputs": [
        {
          "output_type": "execute_result",
          "data": {
            "text/plain": [
              "type_of_location\n",
              "Rural    14263\n",
              "Urban     9077\n",
              "Name: type_of_location, dtype: int64"
            ]
          },
          "metadata": {
            "tags": []
          },
          "execution_count": 36
        }
      ]
    },
    {
      "cell_type": "code",
      "metadata": {
        "id": "mP0MkzLuAlSe",
        "colab_type": "code",
        "outputId": "1acd551d-8177-43a0-ea0a-b02e1798d2c8",
        "colab": {
          "base_uri": "https://localhost:8080/",
          "height": 300
        }
      },
      "source": [
        "#plotting a bar plots on the type of location\n",
        "\n",
        "sns.set_style(\"darkgrid\")\n",
        "sns.barplot(location.index,location.values)\n",
        "plt.xlabel(\"Type of location\",fontsize=14)\n",
        "plt.ylabel(\"The Frequency of the location\",fontsize=14)\n",
        "plt.title(\"Bar plots on the frequency of The Type of Location\",fontsize=14)\n",
        "plt.legend(labels=location.index)\n",
        "plt.show()\n",
        "\n"
      ],
      "execution_count": 50,
      "outputs": [
        {
          "output_type": "display_data",
          "data": {
            "image/png": "[encoded data removed]",
            "text/plain": [
              "<Figure size 432x288 with 1 Axes>"
            ]
          },
          "metadata": {
            "tags": []
          }
        }
      ]
    },
    {
      "cell_type": "code",
      "metadata": {
        "id": "FjuV-DGyfwog",
        "colab_type": "code",
        "colab": {}
      },
      "source": [
        "#Grouping those who had the bank account and getting their frequency\n",
        "bank=df.groupby('has_a_bank_account')['has_a_bank_account'].count()"
      ],
      "execution_count": 0,
      "outputs": []
    },
    {
      "cell_type": "code",
      "metadata": {
        "id": "BTaEIbVofwrD",
        "colab_type": "code",
        "outputId": "cd298fec-c3e5-40c1-f9f4-512f1b0a0cba",
        "colab": {
          "base_uri": "https://localhost:8080/",
          "height": 300
        }
      },
      "source": [
        "#plotting a bar plot of those who had bank account and those who dint\n",
        "\n",
        "sns.set_style(\"darkgrid\")\n",
        "sns.barplot(bank.index,bank.values)\n",
        "plt.xlabel(\"Has_bank_Account\",fontsize=14)\n",
        "plt.ylabel(\"The Frequency of bank accounts\",fontsize=14)\n",
        "plt.title(\"Bar plots on the frequency of having bank accounts\",fontsize=14)\n",
        "plt.legend(labels=bank.index)\n",
        "plt.show()\n"
      ],
      "execution_count": 52,
      "outputs": [
        {
          "output_type": "display_data",
          "data": {
            "image/png": "[encoded data removed]",
            "text/plain": [
              "<Figure size 432x288 with 1 Axes>"
            ]
          },
          "metadata": {
            "tags": []
          }
        }
      ]
    },
    {
      "cell_type": "code",
      "metadata": {
        "id": "UjAODgPTBRzF",
        "colab_type": "code",
        "outputId": "617119c2-7732-420a-dfe5-c569ff4ff070",
        "colab": {
          "base_uri": "https://localhost:8080/",
          "height": 35
        }
      },
      "source": [
        "#Getting unique values of cell phone access\n",
        "df.cell_phone_access.unique()"
      ],
      "execution_count": 53,
      "outputs": [
        {
          "output_type": "execute_result",
          "data": {
            "text/plain": [
              "array(['Yes', 'No'], dtype=object)"
            ]
          },
          "metadata": {
            "tags": []
          },
          "execution_count": 53
        }
      ]
    },
    {
      "cell_type": "code",
      "metadata": {
        "id": "PIeDtVjFBkzc",
        "colab_type": "code",
        "outputId": "eeedf14e-0f65-4257-b593-d91466020d58",
        "colab": {
          "base_uri": "https://localhost:8080/",
          "height": 90
        }
      },
      "source": [
        "#Grouping the elements of cell phone access by their frequency\n",
        "cell_phone_access=df.groupby('cell_phone_access')['cell_phone_access'].count()\n",
        "cell_phone_access\n"
      ],
      "execution_count": 54,
      "outputs": [
        {
          "output_type": "execute_result",
          "data": {
            "text/plain": [
              "cell_phone_access\n",
              "No      6009\n",
              "Yes    17331\n",
              "Name: cell_phone_access, dtype: int64"
            ]
          },
          "metadata": {
            "tags": []
          },
          "execution_count": 54
        }
      ]
    },
    {
      "cell_type": "code",
      "metadata": {
        "id": "7X-xtbycBcJn",
        "colab_type": "code",
        "outputId": "c3e922fb-a7b9-4416-a141-d804efb1320a",
        "colab": {
          "base_uri": "https://localhost:8080/",
          "height": 268
        }
      },
      "source": [
        "#plotting a pie chart on cell phone access\n",
        "explode=[0.1,0]\n",
        "plt.pie(cell_phone_access,labels=cell_phone_access.index,autopct=\"%1.1f%%\",shadow=True,startangle=140,explode=explode)\n",
        "plt.title(\"cell phone access\")\n",
        "plt.show()"
      ],
      "execution_count": 55,
      "outputs": [
        {
          "output_type": "display_data",
          "data": {
            "image/png": "[encoded data removed]",
            "text/plain": [
              "<Figure size 432x288 with 1 Axes>"
            ]
          },
          "metadata": {
            "tags": []
          }
        }
      ]
    },
    {
      "cell_type": "code",
      "metadata": {
        "id": "QBrK8sxaCRgD",
        "colab_type": "code",
        "outputId": "a31f6c1c-c2c8-4505-b5bb-2845ce8520f5",
        "colab": {
          "base_uri": "https://localhost:8080/",
          "height": 90
        }
      },
      "source": [
        "#Grouping the gender and getting their frequency\n",
        "gender=df.groupby('gender_of_respondent')['gender_of_respondent'].count()\n",
        "gender"
      ],
      "execution_count": 57,
      "outputs": [
        {
          "output_type": "execute_result",
          "data": {
            "text/plain": [
              "gender_of_respondent\n",
              "Female    13766\n",
              "Male       9574\n",
              "Name: gender_of_respondent, dtype: int64"
            ]
          },
          "metadata": {
            "tags": []
          },
          "execution_count": 57
        }
      ]
    },
    {
      "cell_type": "code",
      "metadata": {
        "id": "cEZDEIcofwwz",
        "colab_type": "code",
        "outputId": "1662a307-5be4-4852-ebdd-a8c5bc1ba0f9",
        "colab": {
          "base_uri": "https://localhost:8080/",
          "height": 300
        }
      },
      "source": [
        "#plotting bar plots of gender\n",
        "sns.set_style(\"darkgrid\")\n",
        "sns.barplot(gender.index,gender.values)\n",
        "plt.xlabel(\"Gender\",fontsize=14)\n",
        "plt.ylabel(\"The Frequency of gender\",fontsize=14)\n",
        "plt.title(\"Bar plots on the frequency of Gender\",fontsize=14)\n",
        "plt.legend(labels=gender.index)\n",
        "plt.show()\n"
      ],
      "execution_count": 58,
      "outputs": [
        {
          "output_type": "display_data",
          "data": {
            "image/png": "[encoded data removed]",
            "text/plain": [
              "<Figure size 432x288 with 1 Axes>"
            ]
          },
          "metadata": {
            "tags": []
          }
        }
      ]
    },
    {
      "cell_type": "code",
      "metadata": {
        "id": "bTSw7Jevfwzn",
        "colab_type": "code",
        "outputId": "73fa1a61-9ec4-4986-bdbc-10e3e8f82453",
        "colab": {
          "base_uri": "https://localhost:8080/",
          "height": 108
        }
      },
      "source": [
        "#Getting unique values of type of job\n",
        "df.type_of_job.unique()"
      ],
      "execution_count": 63,
      "outputs": [
        {
          "output_type": "execute_result",
          "data": {
            "text/plain": [
              "array(['Self employed', 'Government Dependent',\n",
              "       'Formally employed Private', 'Informally employed',\n",
              "       'Formally employed Government', 'Farming and Fishing',\n",
              "       'Remittance Dependent', 'Other Income',\n",
              "       'Dont Know/Refuse to answer', 'No Income'], dtype=object)"
            ]
          },
          "metadata": {
            "tags": []
          },
          "execution_count": 63
        }
      ]
    },
    {
      "cell_type": "code",
      "metadata": {
        "id": "lxAV6XPJBnes",
        "colab_type": "code",
        "colab": {
          "base_uri": "https://localhost:8080/",
          "height": 235
        },
        "outputId": "61ab1def-d0d3-4dcc-8136-6f93c60c0c57"
      },
      "source": [
        "#Grouping the type of job to get the frequency\n",
        "type_of_job=df.groupby('type_of_job')['type_of_job'].count().sort_values(ascending=False)\n",
        "type_of_job"
      ],
      "execution_count": 77,
      "outputs": [
        {
          "output_type": "execute_result",
          "data": {
            "text/plain": [
              "type_of_job\n",
              "Self employed                   6361\n",
              "Informally employed             5549\n",
              "Farming and Fishing             5422\n",
              "Remittance Dependent            2508\n",
              "Other Income                    1077\n",
              "Formally employed Private       1047\n",
              "No Income                        618\n",
              "Formally employed Government     386\n",
              "Government Dependent             247\n",
              "Dont Know/Refuse to answer       125\n",
              "Name: type_of_job, dtype: int64"
            ]
          },
          "metadata": {
            "tags": []
          },
          "execution_count": 77
        }
      ]
    },
    {
      "cell_type": "code",
      "metadata": {
        "id": "zuEKMy9WG4p0",
        "colab_type": "code",
        "outputId": "0656c3fc-3266-44b4-e003-e4bee02d6206",
        "colab": {
          "base_uri": "https://localhost:8080/",
          "height": 451
        }
      },
      "source": [
        "sns.set_style(\"darkgrid\")\n",
        "sns.barplot(type_of_job.index,type_of_job.values)\n",
        "plt.xlabel(\"type_of_job\",fontsize=14)\n",
        "plt.ylabel(\"The Frequency of type_of_job\",fontsize=14)\n",
        "plt.title(\"Bar plots on the frequency of type_of_job\",fontsize=14)\n",
        "plt.xticks(rotation=90)\n",
        "plt.show()\n"
      ],
      "execution_count": 78,
      "outputs": [
        {
          "output_type": "display_data",
          "data": {
            "image/png": "[encoded data removed]",
            "text/plain": [
              "<Figure size 432x288 with 1 Axes>"
            ]
          },
          "metadata": {
            "tags": []
          }
        }
      ]
    },
    {
      "cell_type": "code",
      "metadata": {
        "id": "ADxWpivhfw3e",
        "colab_type": "code",
        "colab": {
          "base_uri": "https://localhost:8080/",
          "height": 327
        },
        "outputId": "69448f03-c6bd-4b40-cabd-00bb522d0dee"
      },
      "source": [
        "#comparing the gender to type of job\n",
        "df.groupby(['gender_of_respondent','type_of_job']).size().unstack().plot(kind='bar',stacked=True)\n",
        "plt.xlabel(\"gender_of_respondent\",fontsize=14)\n",
        "plt.ylabel(\"The Frequency \",fontsize=14)\n",
        "plt.title(\"stacked plots on the frequency of type_of_job and gender_of_respondent\",fontsize=14)\n",
        "plt.xticks(rotation=90)\n",
        "plt.show()"
      ],
      "execution_count": 79,
      "outputs": [
        {
          "output_type": "display_data",
          "data": {
            "image/png": "[encoded data removed]",
            "text/plain": [
              "<Figure size 432x288 with 1 Axes>"
            ]
          },
          "metadata": {
            "tags": []
          }
        }
      ]
    },
    {
      "cell_type": "code",
      "metadata": {
        "id": "B2TLbhzM5k9u",
        "colab_type": "code",
        "outputId": "8e3f6590-a3c6-4c7a-f49a-2f3ac532808a",
        "colab": {
          "base_uri": "https://localhost:8080/",
          "height": 54
        }
      },
      "source": [
        "#getting unique values of marital status\n",
        "df.marital_status.unique()"
      ],
      "execution_count": 81,
      "outputs": [
        {
          "output_type": "execute_result",
          "data": {
            "text/plain": [
              "array(['Married/Living together', 'Widowed', 'Single/Never Married',\n",
              "       'Divorced/Seperated', 'Dont know'], dtype=object)"
            ]
          },
          "metadata": {
            "tags": []
          },
          "execution_count": 81
        }
      ]
    },
    {
      "cell_type": "code",
      "metadata": {
        "id": "ugf0fBI65k5M",
        "colab_type": "code",
        "outputId": "a05d76c1-3044-451d-a2d6-fe5285e13a3c",
        "colab": {
          "base_uri": "https://localhost:8080/",
          "height": 145
        }
      },
      "source": [
        "#Grouping to get the frequency of marital status\n",
        "marital_status= df.groupby('marital_status')['marital_status'].count().sort_values(ascending=False)\n",
        "marital_status"
      ],
      "execution_count": 82,
      "outputs": [
        {
          "output_type": "execute_result",
          "data": {
            "text/plain": [
              "marital_status\n",
              "Married/Living together    10698\n",
              "Single/Never Married        7902\n",
              "Widowed                     2683\n",
              "Divorced/Seperated          2049\n",
              "Dont know                      8\n",
              "Name: marital_status, dtype: int64"
            ]
          },
          "metadata": {
            "tags": []
          },
          "execution_count": 82
        }
      ]
    },
    {
      "cell_type": "code",
      "metadata": {
        "id": "3tqBnHXS5k2d",
        "colab_type": "code",
        "outputId": "b902a86d-3257-4fc2-b715-72a9416787ba",
        "colab": {
          "base_uri": "https://localhost:8080/",
          "height": 268
        }
      },
      "source": [
        "#plotting a pie chart on marital status\n",
        "explode=[0.1,0,0,0,0]\n",
        "plt.pie(marital_status,labels=marital_status.index,autopct=\"%1.1f%%\",shadow=True,startangle=140,explode=explode)\n",
        "plt.title(\"The frequency of marital status\")\n",
        "plt.show()"
      ],
      "execution_count": 83,
      "outputs": [
        {
          "output_type": "display_data",
          "data": {
            "image/png": "[encoded data removed]",
            "text/plain": [
              "<Figure size 432x288 with 1 Axes>"
            ]
          },
          "metadata": {
            "tags": []
          }
        }
      ]
    },
    {
      "cell_type": "code",
      "metadata": {
        "id": "dB4FjOyH5kgB",
        "colab_type": "code",
        "outputId": "15ad8466-d8c1-413b-d494-2e0f4fc6a717",
        "colab": {
          "base_uri": "https://localhost:8080/",
          "height": 300
        }
      },
      "source": [
        "#plotting bar plots on country and respondent age\n",
        "sns.barplot(df.country,df.respondent_age)\n",
        "plt.xlabel(\"country\",fontsize=14)\n",
        "plt.ylabel(\"The respondent age\",fontsize=14)\n",
        "plt.title(\"Bar plots of respondent age against the country\",fontsize=14)\n",
        "plt.show()"
      ],
      "execution_count": 85,
      "outputs": [
        {
          "output_type": "display_data",
          "data": {
            "image/png": "[encoded data removed]",
            "text/plain": [
              "<Figure size 432x288 with 1 Axes>"
            ]
          },
          "metadata": {
            "tags": []
          }
        }
      ]
    },
    {
      "cell_type": "code",
      "metadata": {
        "id": "pzQ4WIjc5kc2",
        "colab_type": "code",
        "outputId": "fb322f27-069a-4a7a-f862-0550b402cb8f",
        "colab": {
          "base_uri": "https://localhost:8080/",
          "height": 435
        }
      },
      "source": [
        "#Getting the frequency of the unique household size\n",
        "household=df.groupby('household_size')['household_size'].count()\n",
        "household"
      ],
      "execution_count": 86,
      "outputs": [
        {
          "output_type": "execute_result",
          "data": {
            "text/plain": [
              "household_size\n",
              "0.0       36\n",
              "1.0     3928\n",
              "2.0     5072\n",
              "3.0     3513\n",
              "4.0     3199\n",
              "5.0     2716\n",
              "6.0     2028\n",
              "7.0     1378\n",
              "8.0      740\n",
              "9.0      354\n",
              "10.0     191\n",
              "11.0      66\n",
              "12.0      66\n",
              "13.0      25\n",
              "14.0       9\n",
              "15.0      11\n",
              "16.0       4\n",
              "17.0       1\n",
              "18.0       1\n",
              "20.0       1\n",
              "21.0       1\n",
              "Name: household_size, dtype: int64"
            ]
          },
          "metadata": {
            "tags": []
          },
          "execution_count": 86
        }
      ]
    },
    {
      "cell_type": "code",
      "metadata": {
        "id": "afQq4pFi5kXL",
        "colab_type": "code",
        "outputId": "2dbbb700-8cff-4be4-a43f-e6e047879bed",
        "colab": {
          "base_uri": "https://localhost:8080/",
          "height": 300
        }
      },
      "source": [
        "#plotting scatter and lineplot of household size\n",
        "plt.scatter(household.index,household.values)\n",
        "plt.plot(household.index,household.values)\n",
        "plt.xlabel(\"Household size\",fontsize=14)\n",
        "plt.ylabel(\"Frequency\",fontsize=14)\n",
        "plt.title(\"line and scatter plots of household size and frequency\",fontsize=14)\n",
        "plt.show()"
      ],
      "execution_count": 90,
      "outputs": [
        {
          "output_type": "display_data",
          "data": {
            "image/png": "[encoded data removed]",
            "text/plain": [
              "<Figure size 432x288 with 1 Axes>"
            ]
          },
          "metadata": {
            "tags": []
          }
        }
      ]
    },
    {
      "cell_type": "markdown",
      "metadata": {
        "id": "Wx8UYZqB-Xcz",
        "colab_type": "text"
      },
      "source": [
        "It is evident that 5 is the common number of household size\n",
        "Household size is normally distributed as is skewed to the right"
      ]
    },
    {
      "cell_type": "code",
      "metadata": {
        "id": "cSvLm50L-WFi",
        "colab_type": "code",
        "outputId": "eeec567f-2e9f-44fc-84a8-a43682a66890",
        "colab": {
          "base_uri": "https://localhost:8080/",
          "height": 1000
        }
      },
      "source": [
        "#getting the frequency of unique ages\n",
        "respondent_age=df.groupby('respondent_age')['respondent_age'].count()\n",
        "respondent_age"
      ],
      "execution_count": 92,
      "outputs": [
        {
          "output_type": "execute_result",
          "data": {
            "text/plain": [
              "respondent_age\n",
              "16.0      459\n",
              "17.0      474\n",
              "18.0      583\n",
              "19.0      466\n",
              "20.0      622\n",
              "21.0      469\n",
              "22.0      560\n",
              "23.0      580\n",
              "24.0      558\n",
              "25.0      785\n",
              "26.0      611\n",
              "27.0      566\n",
              "28.0      742\n",
              "29.0      514\n",
              "30.0     1043\n",
              "31.0      462\n",
              "32.0      707\n",
              "33.0      526\n",
              "34.0      515\n",
              "35.0      831\n",
              "36.0      456\n",
              "37.0      432\n",
              "38.0      551\n",
              "39.0      370\n",
              "40.0      682\n",
              "41.0      314\n",
              "42.0      444\n",
              "43.0      368\n",
              "44.0      252\n",
              "45.0      561\n",
              "         ... \n",
              "71.0       94\n",
              "72.0       97\n",
              "73.0       90\n",
              "74.0       62\n",
              "75.0      148\n",
              "76.0       72\n",
              "77.0       56\n",
              "78.0       82\n",
              "79.0       57\n",
              "80.0      124\n",
              "81.0       24\n",
              "82.0       40\n",
              "83.0       33\n",
              "84.0       20\n",
              "85.0       55\n",
              "86.0       25\n",
              "87.0       15\n",
              "88.0       24\n",
              "89.0       16\n",
              "90.0       28\n",
              "91.0        5\n",
              "92.0        7\n",
              "93.0        4\n",
              "94.0        5\n",
              "95.0       18\n",
              "96.0        3\n",
              "97.0        1\n",
              "98.0        6\n",
              "99.0        2\n",
              "100.0       5\n",
              "Name: respondent_age, Length: 85, dtype: int64"
            ]
          },
          "metadata": {
            "tags": []
          },
          "execution_count": 92
        }
      ]
    },
    {
      "cell_type": "code",
      "metadata": {
        "id": "YkJMe1qq5kPw",
        "colab_type": "code",
        "outputId": "adfdd087-8e89-4aa4-ce85-47887af20a44",
        "colab": {
          "base_uri": "https://localhost:8080/",
          "height": 301
        }
      },
      "source": [
        "#plotting scatter plot of the respondent age\n",
        "plt.scatter(respondent_age.index,respondent_age.values)\n",
        "plt.xlabel(\"Age Of The Respondent\",fontsize=15)\n",
        "plt.ylabel(\"The Frequency\",fontsize=14)\n",
        "plt.title(\"The Frequency of the age of the Respondent\",fontsize=14)\n",
        "plt.show()\n"
      ],
      "execution_count": 94,
      "outputs": [
        {
          "output_type": "display_data",
          "data": {
            "image/png": "[encoded data removed]",
            "text/plain": [
              "<Figure size 432x288 with 1 Axes>"
            ]
          },
          "metadata": {
            "tags": []
          }
        }
      ]
    },
    {
      "cell_type": "markdown",
      "metadata": {
        "id": "lHmT-xLk_6yf",
        "colab_type": "text"
      },
      "source": [
        "The frequency of age is inversely correlated to the age  of the respondent "
      ]
    },
    {
      "cell_type": "markdown",
      "metadata": {
        "id": "1T27r5l23CK1",
        "colab_type": "text"
      },
      "source": [
        "# **Trying Different Reduction Algorithims**"
      ]
    },
    {
      "cell_type": "markdown",
      "metadata": {
        "id": "T2JMjbX83MGN",
        "colab_type": "text"
      },
      "source": [
        "# 1.Principle Component Analysis(PCA) using: Random Forest Classiffier"
      ]
    },
    {
      "cell_type": "code",
      "metadata": {
        "id": "-huPIQTn3AkY",
        "colab_type": "code",
        "colab": {}
      },
      "source": [
        "#dropping uniqueid for the purpose of creating dummy variables\n",
        "df.drop('uniqueid',axis=1,inplace=True)"
      ],
      "execution_count": 0,
      "outputs": []
    },
    {
      "cell_type": "code",
      "metadata": {
        "id": "SpeYfAvK3Age",
        "colab_type": "code",
        "outputId": "2cde6543-bd79-4ad4-9370-54a946baea38",
        "colab": {
          "base_uri": "https://localhost:8080/",
          "height": 108
        }
      },
      "source": [
        "#confirming that uniqueid is actually dropped\n",
        "df.columns"
      ],
      "execution_count": 97,
      "outputs": [
        {
          "output_type": "execute_result",
          "data": {
            "text/plain": [
              "Index(['country', 'year', 'has_a_bank_account', 'type_of_location',\n",
              "       'cell_phone_access', 'household_size', 'respondent_age',\n",
              "       'gender_of_respondent', 'the_relathip_with_head', 'marital_status',\n",
              "       'level_of_educuation', 'type_of_job'],\n",
              "      dtype='object')"
            ]
          },
          "metadata": {
            "tags": []
          },
          "execution_count": 97
        }
      ]
    },
    {
      "cell_type": "code",
      "metadata": {
        "id": "lm-oN1wD3AdR",
        "colab_type": "code",
        "colab": {
          "base_uri": "https://localhost:8080/",
          "height": 217
        },
        "outputId": "efc5a3ed-3163-4a4f-9b0a-84725678cbbc"
      },
      "source": [
        "#Creating x as te feature set and y as the target set\n",
        "x=df.drop('has_a_bank_account',1)\n",
        "y=df['has_a_bank_account']\n",
        "\n",
        "#getting categorical data into dummy variables\n",
        "x=pd.get_dummies(x)\n",
        "\n",
        "#making the y variable into 1 column\n",
        "labelencoder = LabelEncoder()\n",
        "y = labelencoder.fit_transform(y)\n",
        "\n",
        "#splitting dataset into training set and test set\n",
        "x_train,x_test,y_train,y_test=train_test_split(x,y,test_size=0.2,random_state=0)\n",
        "\n",
        "#Normalization\n",
        "sc=StandardScaler()\n",
        "x_train=sc.fit_transform(x_train)\n",
        "x_test=sc.transform(x_test)\n",
        "\n",
        "#Applying PCA\n",
        "pca=PCA()\n",
        "x_train=pca.fit_transform(x_train)\n",
        "x_test=pca.transform(x_test)\n",
        "\n",
        "#Explained Variance Ratio\n",
        "explained_variance=pca.explained_variance_ratio_\n",
        "print(explained_variance)"
      ],
      "execution_count": 111,
      "outputs": [
        {
          "output_type": "stream",
          "text": [
            "[1.01711630e-01 7.25378488e-02 6.97245816e-02 6.24751896e-02\n",
            " 5.16625861e-02 4.62446560e-02 4.01541854e-02 3.56443263e-02\n",
            " 3.48771440e-02 3.11665118e-02 2.97509140e-02 2.71011249e-02\n",
            " 2.62719478e-02 2.52395328e-02 2.50320421e-02 2.47680305e-02\n",
            " 2.46704336e-02 2.42959986e-02 2.41589570e-02 2.39212523e-02\n",
            " 2.37282076e-02 2.32792357e-02 2.20882579e-02 2.11141236e-02\n",
            " 1.97155548e-02 1.92430265e-02 1.54275762e-02 1.32384154e-02\n",
            " 1.14065685e-02 1.11867261e-02 9.38057201e-03 8.78284265e-03\n",
            " 1.75914422e-31 1.75669261e-32 6.74718296e-33 3.36769685e-33\n",
            " 2.55923183e-33 2.18011466e-33 1.82595827e-33 1.03349241e-33\n",
            " 2.75970982e-35]\n"
          ],
          "name": "stdout"
        }
      ]
    },
    {
      "cell_type": "code",
      "metadata": {
        "id": "7kjP9Yt35636",
        "colab_type": "code",
        "outputId": "63ca925a-8b98-4ea5-f47e-6de3cb1317de",
        "colab": {
          "base_uri": "https://localhost:8080/",
          "height": 35
        }
      },
      "source": [
        "#Getting the size of explained_variance\n",
        "explained_variance.shape"
      ],
      "execution_count": 99,
      "outputs": [
        {
          "output_type": "execute_result",
          "data": {
            "text/plain": [
              "(41,)"
            ]
          },
          "metadata": {
            "tags": []
          },
          "execution_count": 99
        }
      ]
    },
    {
      "cell_type": "code",
      "metadata": {
        "id": "Sd9Nvv4S56zB",
        "colab_type": "code",
        "colab": {
          "base_uri": "https://localhost:8080/",
          "height": 128
        },
        "outputId": "9b1228f6-814a-4ad3-a7c2-774931e36498"
      },
      "source": [
        "#using first principal\n",
        "pca=PCA(n_components=1)\n",
        "x_train=pca.fit_transform(x_train)\n",
        "x_test=pca.transform(x_test)\n",
        "\n",
        "#Training and Making Predictions\n",
        "Classifier=RandomForestClassifier(max_depth=2,random_state=0)\n",
        "Classifier.fit(x_train,y_train)\n",
        "\n",
        "#predicting the test set results\n",
        "y_pred=Classifier.predict(x_test)\n",
        "\n",
        "#confusion matrix\n",
        "cm = confusion_matrix(y_test, y_pred)\n",
        "print(cm)\n",
        "\n",
        "#Perfomance evaluation\n",
        "print('Accuracy',accuracy_score(y_test,y_pred))\n"
      ],
      "execution_count": 108,
      "outputs": [
        {
          "output_type": "stream",
          "text": [
            "[[4036    0]\n",
            " [ 632    0]]\n",
            "Accuracy 0.8646101113967438\n"
          ],
          "name": "stdout"
        },
        {
          "output_type": "stream",
          "text": [
            "/usr/local/lib/python3.6/dist-packages/sklearn/ensemble/forest.py:245: FutureWarning: The default value of n_estimators will change from 10 in version 0.20 to 100 in 0.22.\n",
            "  \"10 in version 0.20 to 100 in 0.22.\", FutureWarning)\n"
          ],
          "name": "stderr"
        }
      ]
    },
    {
      "cell_type": "markdown",
      "metadata": {
        "id": "ZNmzuBJtbs4i",
        "colab_type": "text"
      },
      "source": [
        "Accuracy of 86.4 % is quite high"
      ]
    },
    {
      "cell_type": "code",
      "metadata": {
        "id": "CfyMQtDs56qc",
        "colab_type": "code",
        "colab": {
          "base_uri": "https://localhost:8080/",
          "height": 128
        },
        "outputId": "a8ed8175-99d0-4ec8-a7eb-8e79f803a541"
      },
      "source": [
        "#Results with Second principle\n",
        "pca=PCA(n_components=2)\n",
        "x_train=pca.fit_transform(x_train)\n",
        "x_test=pca.transform(x_test)\n",
        "\n",
        "#Training and Making Predictions\n",
        "Classifier=RandomForestClassifier(max_depth=2,random_state=0)\n",
        "Classifier.fit(x_train,y_train)\n",
        "\n",
        "#predicting the test set results\n",
        "y_pred=Classifier.predict(x_test)\n",
        "\n",
        "#confusion matrix\n",
        "cm = confusion_matrix(y_test, y_pred)\n",
        "print(cm)\n",
        "\n",
        "#Perfomance evaluation\n",
        "print('Accuracy',accuracy_score(y_test,y_pred))\n"
      ],
      "execution_count": 110,
      "outputs": [
        {
          "output_type": "stream",
          "text": [
            "[[4009   27]\n",
            " [ 551   81]]\n",
            "Accuracy 0.87617823479006\n"
          ],
          "name": "stdout"
        },
        {
          "output_type": "stream",
          "text": [
            "/usr/local/lib/python3.6/dist-packages/sklearn/ensemble/forest.py:245: FutureWarning: The default value of n_estimators will change from 10 in version 0.20 to 100 in 0.22.\n",
            "  \"10 in version 0.20 to 100 in 0.22.\", FutureWarning)\n"
          ],
          "name": "stderr"
        }
      ]
    },
    {
      "cell_type": "markdown",
      "metadata": {
        "id": "etpMIiuPb8H7",
        "colab_type": "text"
      },
      "source": [
        "Accuracy of 87.61% is the highest among the three possible components hence using second prinsiple is more appropriate for making predictions"
      ]
    },
    {
      "cell_type": "code",
      "metadata": {
        "id": "215PQvWx56a-",
        "colab_type": "code",
        "outputId": "c18950ad-91c6-4449-bab4-a3e1b6d1af75",
        "colab": {
          "base_uri": "https://localhost:8080/",
          "height": 128
        }
      },
      "source": [
        "#Results with third principle\n",
        "pca=PCA(n_components=3)\n",
        "x_train=pca.fit_transform(x_train)\n",
        "x_test=pca.transform(x_test)\n",
        "\n",
        "#Training and Making Predictions\n",
        "Classifier=RandomForestClassifier(max_depth=2,random_state=0)\n",
        "Classifier.fit(x_train,y_train)\n",
        "\n",
        "#predicting the test set results\n",
        "y_pred=Classifier.predict(x_test)\n",
        "\n",
        "#confusion matrix\n",
        "cm = confusion_matrix(y_test, y_pred)\n",
        "print(cm)\n",
        "\n",
        "#Perfomance evaluation\n",
        "print('Accuracy',accuracy_score(y_test,y_pred))\n"
      ],
      "execution_count": 112,
      "outputs": [
        {
          "output_type": "stream",
          "text": [
            "[[4036    0]\n",
            " [ 631    1]]\n",
            "Accuracy 0.8648243359040274\n"
          ],
          "name": "stdout"
        },
        {
          "output_type": "stream",
          "text": [
            "/usr/local/lib/python3.6/dist-packages/sklearn/ensemble/forest.py:245: FutureWarning: The default value of n_estimators will change from 10 in version 0.20 to 100 in 0.22.\n",
            "  \"10 in version 0.20 to 100 in 0.22.\", FutureWarning)\n"
          ],
          "name": "stderr"
        }
      ]
    },
    {
      "cell_type": "markdown",
      "metadata": {
        "id": "FsoUy9wHcSeP",
        "colab_type": "text"
      },
      "source": [
        "Accuracy of 86.48% is equivalent to that one on the first principle"
      ]
    },
    {
      "cell_type": "markdown",
      "metadata": {
        "id": "-cnRJmw3COhy",
        "colab_type": "text"
      },
      "source": [
        "From above experiment we attained accuracy of\n",
        "86.46%  on first principle,87.62% on second principle and 86.50% on third principle.\n",
        "Therefore the second principle achieved the highest accuracy in making predictions"
      ]
    },
    {
      "cell_type": "markdown",
      "metadata": {
        "id": "nPFBhs7NDZef",
        "colab_type": "text"
      },
      "source": [
        "#2.linear Regression"
      ]
    },
    {
      "cell_type": "code",
      "metadata": {
        "id": "oT5u4DGHhnfU",
        "colab_type": "code",
        "colab": {
          "base_uri": "https://localhost:8080/",
          "height": 1000
        },
        "outputId": "27d28cf3-ff03-4b59-c85b-53a472534c8a"
      },
      "source": [
        "y=df['has_a_bank_account'].values\n",
        "labelencoder = LabelEncoder()\n",
        "y = labelencoder.fit_transform(y)\n",
        "\n",
        "#splitting dataset into training set and test set\n",
        "x_train,x_test,y_train,y_test=train_test_split(x,y,test_size=0.2,random_state=0)\n",
        "\n",
        "#creating and training a model using linear regression\n",
        "lm =LinearRegression()\n",
        "results=lm.fit(x_train,y_train)\n",
        "\n",
        "#Getting the predictions\n",
        "predictions=lm.predict(x_test)\n",
        "\n",
        "\n",
        "print(\"r2_score\",r2_score(y_test,predictions))\n",
        "\n",
        "#Getting the coefficients\n",
        "(lm.coef_, lm.intercept_)  \n",
        "      \n",
        "#etting the model\n",
        "x2 = sm.add_constant(x.values)  \n",
        "model = sm.OLS(y, x2).fit()  \n",
        "print(model.summary())"
      ],
      "execution_count": 123,
      "outputs": [
        {
          "output_type": "stream",
          "text": [
            "r2_score 0.2666795017790725\n",
            "                            OLS Regression Results                            \n",
            "==============================================================================\n",
            "Dep. Variable:                      y   R-squared:                       0.264\n",
            "Model:                            OLS   Adj. R-squared:                  0.263\n",
            "Method:                 Least Squares   F-statistic:                     261.3\n",
            "Date:                Mon, 19 Aug 2019   Prob (F-statistic):               0.00\n",
            "Time:                        15:32:16   Log-Likelihood:                -4920.3\n",
            "No. Observations:               23340   AIC:                             9907.\n",
            "Df Residuals:                   23307   BIC:                         1.017e+04\n",
            "Df Model:                          32                                         \n",
            "Covariance Type:            nonrobust                                         \n",
            "==============================================================================\n",
            "                 coef    std err          t      P>|t|      [0.025      0.975]\n",
            "------------------------------------------------------------------------------\n",
            "const         1.5e-05   4.02e-06      3.730      0.000    7.12e-06    2.29e-05\n",
            "x1             0.0001   1.43e-05      8.329      0.000    9.14e-05       0.000\n",
            "x2            -0.0013      0.001     -1.247      0.212      -0.003       0.001\n",
            "x3             0.0013      0.000      7.914      0.000       0.001       0.002\n",
            "x4             0.0845      0.004     20.700      0.000       0.077       0.093\n",
            "x5             0.0390      0.004      9.419      0.000       0.031       0.047\n",
            "x6            -0.0479      0.005     -9.482      0.000      -0.058      -0.038\n",
            "x7            -0.0756      0.006    -12.082      0.000      -0.088      -0.063\n",
            "x8            -0.0211      0.002     -8.777      0.000      -0.026      -0.016\n",
            "x9             0.0211      0.002      8.783      0.000       0.016       0.026\n",
            "x10           -0.0368      0.002    -15.055      0.000      -0.042      -0.032\n",
            "x11            0.0368      0.002     15.063      0.000       0.032       0.042\n",
            "x12           -0.0189      0.003     -7.185      0.000      -0.024      -0.014\n",
            "x13            0.0189      0.003      7.192      0.000       0.014       0.024\n",
            "x14           -0.0235      0.008     -3.095      0.002      -0.038      -0.009\n",
            "x15            0.0518      0.006      8.635      0.000       0.040       0.064\n",
            "x16           -0.0387      0.019     -2.092      0.036      -0.075      -0.002\n",
            "x17           -0.0233      0.011     -2.187      0.029      -0.044      -0.002\n",
            "x18           -0.0053      0.009     -0.573      0.566      -0.023       0.013\n",
            "x19            0.0390      0.007      5.786      0.000       0.026       0.052\n",
            "x20           -0.0166      0.022     -0.753      0.452      -0.060       0.027\n",
            "x21            0.0237      0.085      0.280      0.779      -0.142       0.190\n",
            "x22            0.0128      0.022      0.596      0.551      -0.029       0.055\n",
            "x23           -0.0124      0.022     -0.575      0.565      -0.055       0.030\n",
            "x24           -0.0076      0.022     -0.345      0.730      -0.051       0.036\n",
            "x25           -0.0816      0.052     -1.576      0.115      -0.183       0.020\n",
            "x26           -0.2279      0.018    -12.692      0.000      -0.263      -0.193\n",
            "x27            0.2318      0.091      2.543      0.011       0.053       0.410\n",
            "x28           -0.1804      0.018    -10.262      0.000      -0.215      -0.146\n",
            "x29           -0.0643      0.018     -3.600      0.000      -0.099      -0.029\n",
            "x30            0.1660      0.019      8.714      0.000       0.129       0.203\n",
            "x31            0.1563      0.020      7.964      0.000       0.118       0.195\n",
            "x32           -0.0414      0.024     -1.691      0.091      -0.089       0.007\n",
            "x33           -0.1076      0.006    -17.177      0.000      -0.120      -0.095\n",
            "x34            0.2869      0.015     19.302      0.000       0.258       0.316\n",
            "x35            0.1877      0.010     19.478      0.000       0.169       0.207\n",
            "x36            0.0190      0.018      1.058      0.290      -0.016       0.054\n",
            "x37           -0.1188      0.006    -20.286      0.000      -0.130      -0.107\n",
            "x38           -0.0676      0.012     -5.567      0.000      -0.091      -0.044\n",
            "x39            0.0005      0.010      0.053      0.958      -0.018       0.019\n",
            "x40           -0.1206      0.007    -16.917      0.000      -0.135      -0.107\n",
            "x41           -0.0380      0.006     -6.592      0.000      -0.049      -0.027\n",
            "==============================================================================\n",
            "Omnibus:                     6603.297   Durbin-Watson:                   1.998\n",
            "Prob(Omnibus):                  0.000   Jarque-Bera (JB):            16502.110\n",
            "Skew:                           1.565   Prob(JB):                         0.00\n",
            "Kurtosis:                       5.679   Cond. No.                     2.14e+18\n",
            "==============================================================================\n",
            "\n",
            "Warnings:\n",
            "[1] Standard Errors assume that the covariance matrix of the errors is correctly specified.\n",
            "[2] The smallest eigenvalue is 2.08e-26. This might indicate that there are\n",
            "strong multicollinearity problems or that the design matrix is singular.\n"
          ],
          "name": "stdout"
        }
      ]
    },
    {
      "cell_type": "markdown",
      "metadata": {
        "id": "tPc3GhX1jj9A",
        "colab_type": "text"
      },
      "source": [
        "Most intercept are less than significance level 0.05 hence the hypothesis is statistically significant"
      ]
    },
    {
      "cell_type": "markdown",
      "metadata": {
        "id": "J0OaVKBNJirn",
        "colab_type": "text"
      },
      "source": [
        "0.2667 approximation is not a very good fit hence linear reggression is not an appropriate model for this dataset"
      ]
    },
    {
      "cell_type": "markdown",
      "metadata": {
        "id": "l03M2OJOK-0J",
        "colab_type": "text"
      },
      "source": [
        "# 3.Linear Discriminant Analysis using :Random Forest Classiffier"
      ]
    },
    {
      "cell_type": "code",
      "metadata": {
        "id": "E_-ZQMTUb2dt",
        "colab_type": "code",
        "outputId": "fdbadafb-91e0-47f3-de21-cb97109b1a3e",
        "colab": {
          "base_uri": "https://localhost:8080/",
          "height": 165
        }
      },
      "source": [
        "\n",
        "#getting categorical data into dummy variables\n",
        "x=pd.get_dummies(x)\n",
        "\n",
        "#creating the predicted variable\n",
        "y=df['has_a_bank_account'].values\n",
        "labelencoder = LabelEncoder()\n",
        "y = labelencoder.fit_transform(y)\n",
        "\n",
        "#splitting dataset into training set and test set\n",
        "x_train,x_test,y_train,y_test=train_test_split(x,y,test_size=0.2,random_state=0)\n",
        "\n",
        "\n",
        "#Normalization\n",
        "sc=StandardScaler()\n",
        "x_train=sc.fit_transform(x_train)\n",
        "x_test=sc.transform(x_test)\n",
        "\n",
        "#reduction of the dimensions using LDA\n",
        "lda=LDA(n_components=1)\n",
        "x_train=lda.fit_transform(x_train,y_train)\n",
        "x_test=lda.transform(x_test)\n",
        "\n",
        "#Training and Making Predictions\n",
        "Classifier=RandomForestClassifier(max_depth=2,random_state=0)\n",
        "Classifier.fit(x_train,y_train)\n",
        "\n",
        "#predicting the test set results\n",
        "y_pred=Classifier.predict(x_test)\n",
        "\n",
        "#Testing Accuracy\n",
        "cm = confusion_matrix(y_test, y_pred)\n",
        "print(cm)\n",
        "print('Accuracy' , str(accuracy_score(y_test, y_pred)))"
      ],
      "execution_count": 113,
      "outputs": [
        {
          "output_type": "stream",
          "text": [
            "[[3992   44]\n",
            " [ 475  157]]\n",
            "Accuracy 0.8888174807197944\n"
          ],
          "name": "stdout"
        },
        {
          "output_type": "stream",
          "text": [
            "/usr/local/lib/python3.6/dist-packages/sklearn/discriminant_analysis.py:388: UserWarning: Variables are collinear.\n",
            "  warnings.warn(\"Variables are collinear.\")\n",
            "/usr/local/lib/python3.6/dist-packages/sklearn/ensemble/forest.py:245: FutureWarning: The default value of n_estimators will change from 10 in version 0.20 to 100 in 0.22.\n",
            "  \"10 in version 0.20 to 100 in 0.22.\", FutureWarning)\n"
          ],
          "name": "stderr"
        }
      ]
    },
    {
      "cell_type": "markdown",
      "metadata": {
        "id": "WSn_OJCQh-cD",
        "colab_type": "text"
      },
      "source": [
        "# **Challenge my solution**"
      ]
    },
    {
      "cell_type": "markdown",
      "metadata": {
        "id": "wu5Jjs2iiH21",
        "colab_type": "text"
      },
      "source": [
        "## Using Logistic Linear reggression instead of Random Forest Classifier to make predictions"
      ]
    },
    {
      "cell_type": "code",
      "metadata": {
        "id": "jFByD9uZiPyg",
        "colab_type": "code",
        "colab": {
          "base_uri": "https://localhost:8080/",
          "height": 165
        },
        "outputId": "d16f8ae4-f99f-409d-cdeb-7f31fd7c2fd4"
      },
      "source": [
        "\n",
        "#getting categorical data into dummy variables\n",
        "x=pd.get_dummies(x)\n",
        "\n",
        "#creating the predicted variable\n",
        "y=df['has_a_bank_account'].values\n",
        "labelencoder = LabelEncoder()\n",
        "y = labelencoder.fit_transform(y)\n",
        "\n",
        "#splitting dataset into training set and test set\n",
        "x_train,x_test,y_train,y_test=train_test_split(x,y,test_size=0.2,random_state=0)\n",
        "\n",
        "\n",
        "#Normalization\n",
        "sc=StandardScaler()\n",
        "x_train=sc.fit_transform(x_train)\n",
        "x_test=sc.transform(x_test)\n",
        "\n",
        "#reduction of the dimensions using LDA\n",
        "lda=LDA(n_components=1)\n",
        "x_train=lda.fit_transform(x_train,y_train)\n",
        "x_test=lda.transform(x_test)\n",
        "\n",
        "#Training and Making Predictions using LogisticRegression\n",
        "from sklearn.linear_model import LogisticRegression\n",
        "Classifier= LogisticRegression()\n",
        "Classifier.fit(x_train,y_train)\n",
        "\n",
        "#predicting the test set results\n",
        "y_pred=Classifier.predict(x_test)\n",
        "\n",
        "#Testing Accuracy\n",
        "cm = confusion_matrix(y_test, y_pred)\n",
        "print(cm)\n",
        "print('Accuracy' , str(accuracy_score(y_test, y_pred)))"
      ],
      "execution_count": 126,
      "outputs": [
        {
          "output_type": "stream",
          "text": [
            "[[3935  101]\n",
            " [ 425  207]]\n",
            "Accuracy 0.8873179091688089\n"
          ],
          "name": "stdout"
        },
        {
          "output_type": "stream",
          "text": [
            "/usr/local/lib/python3.6/dist-packages/sklearn/discriminant_analysis.py:388: UserWarning: Variables are collinear.\n",
            "  warnings.warn(\"Variables are collinear.\")\n",
            "/usr/local/lib/python3.6/dist-packages/sklearn/linear_model/logistic.py:432: FutureWarning: Default solver will be changed to 'lbfgs' in 0.22. Specify a solver to silence this warning.\n",
            "  FutureWarning)\n"
          ],
          "name": "stderr"
        }
      ]
    },
    {
      "cell_type": "markdown",
      "metadata": {
        "id": "2W8sJq7ClbiC",
        "colab_type": "text"
      },
      "source": [
        "using logistic regrssion for prediction brings a lower accuracy  of 88.8% compared to random forest classiffier which has 88.9%.\n",
        "**However the difference is minimal **"
      ]
    },
    {
      "cell_type": "markdown",
      "metadata": {
        "id": "z_DascAIhxrv",
        "colab_type": "text"
      },
      "source": [
        "#**Conclusion**"
      ]
    },
    {
      "cell_type": "markdown",
      "metadata": {
        "id": "yjIM8uj9mHxJ",
        "colab_type": "text"
      },
      "source": [
        "LDA with random Forest classifier  has the highest accuracy of 88.89% which makes it the best reduction method and the best prediction algorithim in my experiment"
      ]
    }
  ]
}